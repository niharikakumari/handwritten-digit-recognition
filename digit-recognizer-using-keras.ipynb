{
 "cells": [
  {
   "cell_type": "code",
   "execution_count": 1,
   "metadata": {
    "_cell_guid": "b1076dfc-b9ad-4769-8c92-a6c4dae69d19",
    "_uuid": "8f2839f25d086af736a60e9eeb907d3b93b6e0e5",
    "execution": {
     "iopub.execute_input": "2020-08-15T17:01:10.368912Z",
     "iopub.status.busy": "2020-08-15T17:01:10.367885Z",
     "iopub.status.idle": "2020-08-15T17:01:10.373793Z",
     "shell.execute_reply": "2020-08-15T17:01:10.373257Z"
    },
    "papermill": {
     "duration": 0.025978,
     "end_time": "2020-08-15T17:01:10.373914",
     "exception": false,
     "start_time": "2020-08-15T17:01:10.347936",
     "status": "completed"
    },
    "tags": []
   },
   "outputs": [
    {
     "name": "stdout",
     "output_type": "stream",
     "text": [
      "/kaggle/input/digit-recognizer/train.csv\n",
      "/kaggle/input/digit-recognizer/test.csv\n",
      "/kaggle/input/digit-recognizer/sample_submission.csv\n"
     ]
    }
   ],
   "source": [
    "# This Python 3 environment comes with many helpful analytics libraries installed\n",
    "# It is defined by the kaggle/python Docker image: https://github.com/kaggle/docker-python\n",
    "# For example, here's several helpful packages to load\n",
    "\n",
    "import numpy as np # linear algebra\n",
    "import pandas as pd # data processing, CSV file I/O (e.g. pd.read_csv)\n",
    "\n",
    "# Input data files are available in the read-only \"../input/\" directory\n",
    "# For example, running this (by clicking run or pressing Shift+Enter) will list all files under the input directory\n",
    "\n",
    "import os\n",
    "for dirname, _, filenames in os.walk('/kaggle/input'):\n",
    "    for filename in filenames:\n",
    "        print(os.path.join(dirname, filename))\n",
    "\n",
    "# You can write up to 5GB to the current directory (/kaggle/working/) that gets preserved as output when you create a version using \"Save & Run All\" \n",
    "# You can also write temporary files to /kaggle/temp/, but they won't be saved outside of the current session"
   ]
  },
  {
   "cell_type": "code",
   "execution_count": 2,
   "metadata": {
    "_cell_guid": "79c7e3d0-c299-4dcb-8224-4455121ee9b0",
    "_uuid": "d629ff2d2480ee46fbb7e2d37f6b5fab8052498a",
    "execution": {
     "iopub.execute_input": "2020-08-15T17:01:10.404562Z",
     "iopub.status.busy": "2020-08-15T17:01:10.403880Z",
     "iopub.status.idle": "2020-08-15T17:01:15.692337Z",
     "shell.execute_reply": "2020-08-15T17:01:15.691458Z"
    },
    "papermill": {
     "duration": 5.305491,
     "end_time": "2020-08-15T17:01:15.692454",
     "exception": false,
     "start_time": "2020-08-15T17:01:10.386963",
     "status": "completed"
    },
    "tags": []
   },
   "outputs": [],
   "source": [
    "import tensorflow as tf\n",
    "from tensorflow import keras\n",
    "from tensorflow.keras import layers\n",
    "from keras.optimizers import RMSprop"
   ]
  },
  {
   "cell_type": "code",
   "execution_count": 3,
   "metadata": {
    "execution": {
     "iopub.execute_input": "2020-08-15T17:01:15.720783Z",
     "iopub.status.busy": "2020-08-15T17:01:15.719927Z",
     "iopub.status.idle": "2020-08-15T17:01:16.354260Z",
     "shell.execute_reply": "2020-08-15T17:01:16.354862Z"
    },
    "papermill": {
     "duration": 0.65063,
     "end_time": "2020-08-15T17:01:16.355042",
     "exception": false,
     "start_time": "2020-08-15T17:01:15.704412",
     "status": "completed"
    },
    "tags": []
   },
   "outputs": [
    {
     "name": "stdout",
     "output_type": "stream",
     "text": [
      "Downloading data from https://storage.googleapis.com/tensorflow/tf-keras-datasets/mnist.npz\n",
      "11493376/11490434 [==============================] - 0s 0us/step\n"
     ]
    }
   ],
   "source": [
    "dataset = keras.datasets.mnist.load_data()"
   ]
  },
  {
   "cell_type": "code",
   "execution_count": 4,
   "metadata": {
    "execution": {
     "iopub.execute_input": "2020-08-15T17:01:16.415053Z",
     "iopub.status.busy": "2020-08-15T17:01:16.414164Z",
     "iopub.status.idle": "2020-08-15T17:01:16.423224Z",
     "shell.execute_reply": "2020-08-15T17:01:16.423957Z"
    },
    "papermill": {
     "duration": 0.044321,
     "end_time": "2020-08-15T17:01:16.424177",
     "exception": false,
     "start_time": "2020-08-15T17:01:16.379856",
     "status": "completed"
    },
    "tags": []
   },
   "outputs": [
    {
     "name": "stdout",
     "output_type": "stream",
     "text": [
      "(60000, 28, 28)\n",
      "(60000,)\n",
      "(10000, 28, 28)\n",
      "(10000,)\n"
     ]
    }
   ],
   "source": [
    "(x_train,y_train),(x_test,y_test) = dataset\n",
    "print(x_train.shape)\n",
    "print(y_train.shape)\n",
    "print(x_test.shape)\n",
    "print(y_test.shape)"
   ]
  },
  {
   "cell_type": "code",
   "execution_count": 5,
   "metadata": {
    "execution": {
     "iopub.execute_input": "2020-08-15T17:01:16.483973Z",
     "iopub.status.busy": "2020-08-15T17:01:16.483048Z",
     "iopub.status.idle": "2020-08-15T17:01:16.485564Z",
     "shell.execute_reply": "2020-08-15T17:01:16.484796Z"
    },
    "papermill": {
     "duration": 0.039762,
     "end_time": "2020-08-15T17:01:16.485714",
     "exception": false,
     "start_time": "2020-08-15T17:01:16.445952",
     "status": "completed"
    },
    "tags": []
   },
   "outputs": [],
   "source": [
    "x_train = x_train.reshape(-1,28,28,1)"
   ]
  },
  {
   "cell_type": "code",
   "execution_count": 6,
   "metadata": {
    "execution": {
     "iopub.execute_input": "2020-08-15T17:01:16.540804Z",
     "iopub.status.busy": "2020-08-15T17:01:16.539927Z",
     "iopub.status.idle": "2020-08-15T17:01:16.697785Z",
     "shell.execute_reply": "2020-08-15T17:01:16.698989Z"
    },
    "papermill": {
     "duration": 0.1931,
     "end_time": "2020-08-15T17:01:16.699196",
     "exception": false,
     "start_time": "2020-08-15T17:01:16.506096",
     "status": "completed"
    },
    "tags": []
   },
   "outputs": [],
   "source": [
    "# Preprocess the data (these are NumPy arrays)\n",
    "# x_train = x_train.reshape(60000, 784).astype(\"float32\") / 255\n",
    "# x_test = x_test.reshape(10000, 784).astype(\"float32\") / 255\n",
    "\n",
    "x_train = x_train / 255\n",
    "x_test = x_test / 255\n",
    "\n",
    "# y_train = y_train.astype(\"float32\")\n",
    "# y_test = y_test.astype(\"float32\")\n",
    "\n",
    "# Reserve 10,000 samples for validation\n",
    "x_val = x_train[-10000:]\n",
    "y_val = y_train[-10000:]\n",
    "x_train = x_train[:-10000]\n",
    "y_train = y_train[:-10000]"
   ]
  },
  {
   "cell_type": "code",
   "execution_count": 7,
   "metadata": {
    "execution": {
     "iopub.execute_input": "2020-08-15T17:01:16.748065Z",
     "iopub.status.busy": "2020-08-15T17:01:16.747042Z",
     "iopub.status.idle": "2020-08-15T17:01:16.749644Z",
     "shell.execute_reply": "2020-08-15T17:01:16.748882Z"
    },
    "papermill": {
     "duration": 0.029536,
     "end_time": "2020-08-15T17:01:16.749779",
     "exception": false,
     "start_time": "2020-08-15T17:01:16.720243",
     "status": "completed"
    },
    "tags": []
   },
   "outputs": [],
   "source": [
    "# #create a functional API\n",
    "# inputs = keras.Input(shape=(28,28,1), name=\"digits\")\n",
    "# # layer= layers.Conv2D(8,3, activation='relu',name=\"ConvLayer0\")(inputs)\n",
    "# layer = layers.Conv2D(16,3, activation='relu',name=\"ConvLayer1\")(inputs)\n",
    "# layer= layers.Conv2D(32,3, activation='relu',name=\"ConvLayer2\")(layer)\n",
    "# layer= layers.Conv2D(64,3, activation='relu',name=\"ConvLayer3\")(layer)\n",
    "# layer= layers.Conv2D(128,3, activation='relu',name=\"ConvLayer4\")(layer)\n",
    "# layer = layers.MaxPooling2D(3)(layer)\n",
    "# layer= layers.Conv2D(256,3, activation='relu',name=\"ConvLayer5\")(layer)\n",
    "# layer = layers.MaxPooling2D(3)(layer)\n",
    "# layer = layers.Flatten()(layer)\n",
    "# layer = layers.Dense(256,activation = 'relu',name=\"DenseLayer1\")(layer)\n",
    "# # layer = layers.Dense(128,activation = 'relu',name=\"DenseLayer2\")(layer)\n",
    "# layer = layers.Dense(64,activation = 'relu',name=\"DenseLayer3\")(layer)\n",
    "# pred = layers.Dense(10,activation = 'softmax',name=\"prediction_layer\")(layer)"
   ]
  },
  {
   "cell_type": "code",
   "execution_count": 8,
   "metadata": {
    "execution": {
     "iopub.execute_input": "2020-08-15T17:01:16.802297Z",
     "iopub.status.busy": "2020-08-15T17:01:16.801454Z",
     "iopub.status.idle": "2020-08-15T17:01:19.818996Z",
     "shell.execute_reply": "2020-08-15T17:01:19.818354Z"
    },
    "papermill": {
     "duration": 3.049326,
     "end_time": "2020-08-15T17:01:19.819129",
     "exception": false,
     "start_time": "2020-08-15T17:01:16.769803",
     "status": "completed"
    },
    "tags": []
   },
   "outputs": [],
   "source": [
    "#create a functional API\n",
    "inputs = keras.Input(shape=(28,28,1), name=\"digits\")\n",
    "layer= layers.Conv2D(32,5, activation='relu',name=\"ConvLayer2\")(inputs)\n",
    "layer= layers.Conv2D(32,5, activation='relu',name=\"ConvLayer3\")(layer)\n",
    "layer = layers.MaxPooling2D(2)(layer)\n",
    "layer = layers.Dropout(0.25)(layer)\n",
    "\n",
    "layer= layers.Conv2D(64,3, activation='relu',name=\"ConvLayer4\")(layer)\n",
    "layer= layers.Conv2D(64,3, activation='relu',name=\"ConvLayer5\")(layer)\n",
    "# layer = layers.MaxPooling2D(2)(layer)\n",
    "layer = layers.Dropout(0.25)(layer)\n",
    "\n",
    "layer= layers.Conv2D(128,3, activation='relu',name=\"ConvLayer6\")(layer)\n",
    "layer= layers.Conv2D(128,3, activation='relu',name=\"ConvLayer7\")(layer)\n",
    "layer = layers.MaxPooling2D(2)(layer)\n",
    "layer = layers.Dropout(0.25)(layer)\n",
    "\n",
    "layer = layers.Flatten()(layer)\n",
    "layer = layers.Dense(256,activation = 'relu',name=\"DenseLayer1\")(layer)\n",
    "layer = layers.Dropout(0.25)(layer)\n",
    "layer = layers.Dense(128,activation = 'relu',name=\"DenseLayer2\")(layer)\n",
    "layer = layers.Dropout(0.5)(layer)\n",
    "pred = layers.Dense(10,activation = 'softmax',name=\"prediction_layer\")(layer)"
   ]
  },
  {
   "cell_type": "code",
   "execution_count": 9,
   "metadata": {
    "execution": {
     "iopub.execute_input": "2020-08-15T17:01:19.854796Z",
     "iopub.status.busy": "2020-08-15T17:01:19.853889Z",
     "iopub.status.idle": "2020-08-15T17:01:19.871781Z",
     "shell.execute_reply": "2020-08-15T17:01:19.872545Z"
    },
    "papermill": {
     "duration": 0.038818,
     "end_time": "2020-08-15T17:01:19.872725",
     "exception": false,
     "start_time": "2020-08-15T17:01:19.833907",
     "status": "completed"
    },
    "tags": []
   },
   "outputs": [
    {
     "name": "stdout",
     "output_type": "stream",
     "text": [
      "Model: \"functional_1\"\n",
      "_________________________________________________________________\n",
      "Layer (type)                 Output Shape              Param #   \n",
      "=================================================================\n",
      "digits (InputLayer)          [(None, 28, 28, 1)]       0         \n",
      "_________________________________________________________________\n",
      "ConvLayer2 (Conv2D)          (None, 24, 24, 32)        832       \n",
      "_________________________________________________________________\n",
      "ConvLayer3 (Conv2D)          (None, 20, 20, 32)        25632     \n",
      "_________________________________________________________________\n",
      "max_pooling2d (MaxPooling2D) (None, 10, 10, 32)        0         \n",
      "_________________________________________________________________\n",
      "dropout (Dropout)            (None, 10, 10, 32)        0         \n",
      "_________________________________________________________________\n",
      "ConvLayer4 (Conv2D)          (None, 8, 8, 64)          18496     \n",
      "_________________________________________________________________\n",
      "ConvLayer5 (Conv2D)          (None, 6, 6, 64)          36928     \n",
      "_________________________________________________________________\n",
      "dropout_1 (Dropout)          (None, 6, 6, 64)          0         \n",
      "_________________________________________________________________\n",
      "ConvLayer6 (Conv2D)          (None, 4, 4, 128)         73856     \n",
      "_________________________________________________________________\n",
      "ConvLayer7 (Conv2D)          (None, 2, 2, 128)         147584    \n",
      "_________________________________________________________________\n",
      "max_pooling2d_1 (MaxPooling2 (None, 1, 1, 128)         0         \n",
      "_________________________________________________________________\n",
      "dropout_2 (Dropout)          (None, 1, 1, 128)         0         \n",
      "_________________________________________________________________\n",
      "flatten (Flatten)            (None, 128)               0         \n",
      "_________________________________________________________________\n",
      "DenseLayer1 (Dense)          (None, 256)               33024     \n",
      "_________________________________________________________________\n",
      "dropout_3 (Dropout)          (None, 256)               0         \n",
      "_________________________________________________________________\n",
      "DenseLayer2 (Dense)          (None, 128)               32896     \n",
      "_________________________________________________________________\n",
      "dropout_4 (Dropout)          (None, 128)               0         \n",
      "_________________________________________________________________\n",
      "prediction_layer (Dense)     (None, 10)                1290      \n",
      "=================================================================\n",
      "Total params: 370,538\n",
      "Trainable params: 370,538\n",
      "Non-trainable params: 0\n",
      "_________________________________________________________________\n"
     ]
    }
   ],
   "source": [
    "model=keras.Model(inputs=inputs,outputs=pred)\n",
    "model.summary()"
   ]
  },
  {
   "cell_type": "code",
   "execution_count": 10,
   "metadata": {
    "execution": {
     "iopub.execute_input": "2020-08-15T17:01:19.908996Z",
     "iopub.status.busy": "2020-08-15T17:01:19.908337Z",
     "iopub.status.idle": "2020-08-15T17:01:19.912813Z",
     "shell.execute_reply": "2020-08-15T17:01:19.912219Z"
    },
    "papermill": {
     "duration": 0.023607,
     "end_time": "2020-08-15T17:01:19.912913",
     "exception": false,
     "start_time": "2020-08-15T17:01:19.889306",
     "status": "completed"
    },
    "tags": []
   },
   "outputs": [],
   "source": [
    "learning_rate_reduction = keras.callbacks.ReduceLROnPlateau(monitor='val_acc', \n",
    "                                            patience=3, \n",
    "                                            verbose=1, \n",
    "                                            factor=0.5, \n",
    "                                            min_lr=0.00001)"
   ]
  },
  {
   "cell_type": "code",
   "execution_count": 11,
   "metadata": {
    "execution": {
     "iopub.execute_input": "2020-08-15T17:01:19.952248Z",
     "iopub.status.busy": "2020-08-15T17:01:19.950960Z",
     "iopub.status.idle": "2020-08-15T17:01:20.077078Z",
     "shell.execute_reply": "2020-08-15T17:01:20.076532Z"
    },
    "papermill": {
     "duration": 0.149157,
     "end_time": "2020-08-15T17:01:20.077223",
     "exception": false,
     "start_time": "2020-08-15T17:01:19.928066",
     "status": "completed"
    },
    "tags": []
   },
   "outputs": [],
   "source": [
    "datagen = keras.preprocessing.image.ImageDataGenerator(\n",
    "        featurewise_center=False,  # set input mean to 0 over the dataset\n",
    "        samplewise_center=False,  # set each sample mean to 0\n",
    "        featurewise_std_normalization=False,  # divide inputs by std of the dataset\n",
    "        samplewise_std_normalization=False,  # divide each input by its std\n",
    "        zca_whitening=False,  # apply ZCA whitening\n",
    "        rotation_range=10,  # randomly rotate images in the range (degrees, 0 to 180)\n",
    "        zoom_range = 0.1, # Randomly zoom image \n",
    "        data_format = None,\n",
    "        width_shift_range=0.1,  # randomly shift images horizontally (fraction of total width)\n",
    "        height_shift_range=0.1,  # randomly shift images vertically (fraction of total height)\n",
    "        horizontal_flip=False,  # randomly flip images\n",
    "        vertical_flip=False)  # randomly flip images\n",
    "\n",
    "\n",
    "datagen.fit(x_train) #,target_size=(28,28), batch_size=32, frames_per_step=4)"
   ]
  },
  {
   "cell_type": "code",
   "execution_count": 12,
   "metadata": {
    "execution": {
     "iopub.execute_input": "2020-08-15T17:01:20.126208Z",
     "iopub.status.busy": "2020-08-15T17:01:20.125043Z",
     "iopub.status.idle": "2020-08-15T17:18:48.330748Z",
     "shell.execute_reply": "2020-08-15T17:18:48.331903Z"
    },
    "papermill": {
     "duration": 1048.237761,
     "end_time": "2020-08-15T17:18:48.332090",
     "exception": false,
     "start_time": "2020-08-15T17:01:20.094329",
     "status": "completed"
    },
    "tags": []
   },
   "outputs": [
    {
     "name": "stdout",
     "output_type": "stream",
     "text": [
      "Epoch 1/50\n",
      "1563/1563 [==============================] - 20s 13ms/step - loss: 0.5473 - sparse_categorical_accuracy: 0.8295 - mean_absolute_error: 4.3686 - val_loss: 0.0675 - val_sparse_categorical_accuracy: 0.9813 - val_mean_absolute_error: 4.3992\n",
      "Epoch 2/50\n",
      "1563/1563 [==============================] - 21s 13ms/step - loss: 0.1545 - sparse_categorical_accuracy: 0.9622 - mean_absolute_error: 4.3686 - val_loss: 0.0504 - val_sparse_categorical_accuracy: 0.9872 - val_mean_absolute_error: 4.3992\n",
      "Epoch 3/50\n",
      "1563/1563 [==============================] - 20s 13ms/step - loss: 0.1209 - sparse_categorical_accuracy: 0.9717 - mean_absolute_error: 4.3686 - val_loss: 0.0531 - val_sparse_categorical_accuracy: 0.9853 - val_mean_absolute_error: 4.3992\n",
      "Epoch 4/50\n",
      "1563/1563 [==============================] - 19s 12ms/step - loss: 0.1068 - sparse_categorical_accuracy: 0.9749 - mean_absolute_error: 4.3686 - val_loss: 0.0457 - val_sparse_categorical_accuracy: 0.9879 - val_mean_absolute_error: 4.3992\n",
      "Epoch 5/50\n",
      "1563/1563 [==============================] - 21s 14ms/step - loss: 0.0938 - sparse_categorical_accuracy: 0.9787 - mean_absolute_error: 4.3686 - val_loss: 0.0596 - val_sparse_categorical_accuracy: 0.9881 - val_mean_absolute_error: 4.3992\n",
      "Epoch 6/50\n",
      "1563/1563 [==============================] - 20s 13ms/step - loss: 0.0947 - sparse_categorical_accuracy: 0.9774 - mean_absolute_error: 4.3686 - val_loss: 0.0392 - val_sparse_categorical_accuracy: 0.9918 - val_mean_absolute_error: 4.3992\n",
      "Epoch 7/50\n",
      "1563/1563 [==============================] - 20s 13ms/step - loss: 0.0878 - sparse_categorical_accuracy: 0.9795 - mean_absolute_error: 4.3686 - val_loss: 0.0337 - val_sparse_categorical_accuracy: 0.9919 - val_mean_absolute_error: 4.3992\n",
      "Epoch 8/50\n",
      "1563/1563 [==============================] - 21s 13ms/step - loss: 0.0849 - sparse_categorical_accuracy: 0.9807 - mean_absolute_error: 4.3686 - val_loss: 0.0395 - val_sparse_categorical_accuracy: 0.9921 - val_mean_absolute_error: 4.3992\n",
      "Epoch 9/50\n",
      "1563/1563 [==============================] - 20s 13ms/step - loss: 0.0828 - sparse_categorical_accuracy: 0.9806 - mean_absolute_error: 4.3686 - val_loss: 0.0419 - val_sparse_categorical_accuracy: 0.9911 - val_mean_absolute_error: 4.3992\n",
      "Epoch 10/50\n",
      "1563/1563 [==============================] - 20s 13ms/step - loss: 0.0737 - sparse_categorical_accuracy: 0.9824 - mean_absolute_error: 4.3686 - val_loss: 0.0447 - val_sparse_categorical_accuracy: 0.9922 - val_mean_absolute_error: 4.3992\n",
      "Epoch 11/50\n",
      "1563/1563 [==============================] - 21s 14ms/step - loss: 0.0791 - sparse_categorical_accuracy: 0.9828 - mean_absolute_error: 4.3686 - val_loss: 0.0339 - val_sparse_categorical_accuracy: 0.9920 - val_mean_absolute_error: 4.3992\n",
      "Epoch 12/50\n",
      "1563/1563 [==============================] - 19s 12ms/step - loss: 0.0721 - sparse_categorical_accuracy: 0.9836 - mean_absolute_error: 4.3686 - val_loss: 0.0332 - val_sparse_categorical_accuracy: 0.9930 - val_mean_absolute_error: 4.3992\n",
      "Epoch 13/50\n",
      "1563/1563 [==============================] - 21s 14ms/step - loss: 0.0735 - sparse_categorical_accuracy: 0.9834 - mean_absolute_error: 4.3686 - val_loss: 0.0364 - val_sparse_categorical_accuracy: 0.9922 - val_mean_absolute_error: 4.3992\n",
      "Epoch 14/50\n",
      "1563/1563 [==============================] - 22s 14ms/step - loss: 0.0722 - sparse_categorical_accuracy: 0.9836 - mean_absolute_error: 4.3686 - val_loss: 0.0442 - val_sparse_categorical_accuracy: 0.9925 - val_mean_absolute_error: 4.3992\n",
      "Epoch 15/50\n",
      "1563/1563 [==============================] - 19s 12ms/step - loss: 0.0686 - sparse_categorical_accuracy: 0.9849 - mean_absolute_error: 4.3686 - val_loss: 0.0466 - val_sparse_categorical_accuracy: 0.9915 - val_mean_absolute_error: 4.3992\n",
      "Epoch 16/50\n",
      "1563/1563 [==============================] - 22s 14ms/step - loss: 0.0725 - sparse_categorical_accuracy: 0.9837 - mean_absolute_error: 4.3686 - val_loss: 0.0366 - val_sparse_categorical_accuracy: 0.9923 - val_mean_absolute_error: 4.3992\n",
      "Epoch 17/50\n",
      "1563/1563 [==============================] - 21s 14ms/step - loss: 0.0639 - sparse_categorical_accuracy: 0.9852 - mean_absolute_error: 4.3686 - val_loss: 0.0269 - val_sparse_categorical_accuracy: 0.9942 - val_mean_absolute_error: 4.3992\n",
      "Epoch 18/50\n",
      "1563/1563 [==============================] - 19s 12ms/step - loss: 0.0701 - sparse_categorical_accuracy: 0.9839 - mean_absolute_error: 4.3686 - val_loss: 0.0342 - val_sparse_categorical_accuracy: 0.9933 - val_mean_absolute_error: 4.3992\n",
      "Epoch 19/50\n",
      "1563/1563 [==============================] - 22s 14ms/step - loss: 0.0648 - sparse_categorical_accuracy: 0.9853 - mean_absolute_error: 4.3686 - val_loss: 0.0332 - val_sparse_categorical_accuracy: 0.9943 - val_mean_absolute_error: 4.3992\n",
      "Epoch 20/50\n",
      "1563/1563 [==============================] - 20s 13ms/step - loss: 0.0677 - sparse_categorical_accuracy: 0.9846 - mean_absolute_error: 4.3686 - val_loss: 0.0429 - val_sparse_categorical_accuracy: 0.9903 - val_mean_absolute_error: 4.3992\n",
      "Epoch 21/50\n",
      "1563/1563 [==============================] - 21s 14ms/step - loss: 0.0679 - sparse_categorical_accuracy: 0.9842 - mean_absolute_error: 4.3686 - val_loss: 0.0330 - val_sparse_categorical_accuracy: 0.9930 - val_mean_absolute_error: 4.3992\n",
      "Epoch 22/50\n",
      "1563/1563 [==============================] - 22s 14ms/step - loss: 0.0683 - sparse_categorical_accuracy: 0.9839 - mean_absolute_error: 4.3686 - val_loss: 0.0467 - val_sparse_categorical_accuracy: 0.9927 - val_mean_absolute_error: 4.3992\n",
      "Epoch 23/50\n",
      "1563/1563 [==============================] - 19s 12ms/step - loss: 0.0715 - sparse_categorical_accuracy: 0.9848 - mean_absolute_error: 4.3686 - val_loss: 0.0328 - val_sparse_categorical_accuracy: 0.9932 - val_mean_absolute_error: 4.3992\n",
      "Epoch 24/50\n",
      "1563/1563 [==============================] - 22s 14ms/step - loss: 0.0652 - sparse_categorical_accuracy: 0.9854 - mean_absolute_error: 4.3686 - val_loss: 0.0360 - val_sparse_categorical_accuracy: 0.9930 - val_mean_absolute_error: 4.3992\n",
      "Epoch 25/50\n",
      "1563/1563 [==============================] - 21s 13ms/step - loss: 0.0677 - sparse_categorical_accuracy: 0.9855 - mean_absolute_error: 4.3686 - val_loss: 0.0290 - val_sparse_categorical_accuracy: 0.9939 - val_mean_absolute_error: 4.3992\n",
      "Epoch 26/50\n",
      "1563/1563 [==============================] - 21s 14ms/step - loss: 0.0680 - sparse_categorical_accuracy: 0.9855 - mean_absolute_error: 4.3686 - val_loss: 0.0367 - val_sparse_categorical_accuracy: 0.9921 - val_mean_absolute_error: 4.3992\n",
      "Epoch 27/50\n",
      "1563/1563 [==============================] - 22s 14ms/step - loss: 0.0696 - sparse_categorical_accuracy: 0.9844 - mean_absolute_error: 4.3686 - val_loss: 0.0437 - val_sparse_categorical_accuracy: 0.9914 - val_mean_absolute_error: 4.3992\n",
      "Epoch 28/50\n",
      "1563/1563 [==============================] - 21s 13ms/step - loss: 0.0733 - sparse_categorical_accuracy: 0.9841 - mean_absolute_error: 4.3686 - val_loss: 0.0430 - val_sparse_categorical_accuracy: 0.9912 - val_mean_absolute_error: 4.3992\n",
      "Epoch 29/50\n",
      "1563/1563 [==============================] - 22s 14ms/step - loss: 0.0676 - sparse_categorical_accuracy: 0.9851 - mean_absolute_error: 4.3686 - val_loss: 0.0433 - val_sparse_categorical_accuracy: 0.9918 - val_mean_absolute_error: 4.3992\n",
      "Epoch 30/50\n",
      "1563/1563 [==============================] - 20s 13ms/step - loss: 0.0677 - sparse_categorical_accuracy: 0.9858 - mean_absolute_error: 4.3686 - val_loss: 0.0387 - val_sparse_categorical_accuracy: 0.9920 - val_mean_absolute_error: 4.3992\n",
      "Epoch 31/50\n",
      "1563/1563 [==============================] - 23s 15ms/step - loss: 0.0668 - sparse_categorical_accuracy: 0.9849 - mean_absolute_error: 4.3686 - val_loss: 0.0384 - val_sparse_categorical_accuracy: 0.9908 - val_mean_absolute_error: 4.3992\n",
      "Epoch 32/50\n",
      "1563/1563 [==============================] - 21s 13ms/step - loss: 0.0683 - sparse_categorical_accuracy: 0.9852 - mean_absolute_error: 4.3686 - val_loss: 0.0448 - val_sparse_categorical_accuracy: 0.9917 - val_mean_absolute_error: 4.3992\n",
      "Epoch 33/50\n",
      "1563/1563 [==============================] - 22s 14ms/step - loss: 0.0686 - sparse_categorical_accuracy: 0.9858 - mean_absolute_error: 4.3686 - val_loss: 0.0461 - val_sparse_categorical_accuracy: 0.9898 - val_mean_absolute_error: 4.3992\n",
      "Epoch 34/50\n",
      "1563/1563 [==============================] - 23s 15ms/step - loss: 0.0657 - sparse_categorical_accuracy: 0.9859 - mean_absolute_error: 4.3686 - val_loss: 0.0311 - val_sparse_categorical_accuracy: 0.9936 - val_mean_absolute_error: 4.3992\n",
      "Epoch 35/50\n",
      "1563/1563 [==============================] - 19s 12ms/step - loss: 0.0650 - sparse_categorical_accuracy: 0.9853 - mean_absolute_error: 4.3686 - val_loss: 0.0446 - val_sparse_categorical_accuracy: 0.9934 - val_mean_absolute_error: 4.3992\n",
      "Epoch 36/50\n",
      "1563/1563 [==============================] - 21s 13ms/step - loss: 0.0653 - sparse_categorical_accuracy: 0.9859 - mean_absolute_error: 4.3686 - val_loss: 0.0434 - val_sparse_categorical_accuracy: 0.9901 - val_mean_absolute_error: 4.3992\n",
      "Epoch 37/50\n",
      "1563/1563 [==============================] - 21s 13ms/step - loss: 0.0738 - sparse_categorical_accuracy: 0.9845 - mean_absolute_error: 4.3686 - val_loss: 0.0331 - val_sparse_categorical_accuracy: 0.9930 - val_mean_absolute_error: 4.3992\n",
      "Epoch 38/50\n",
      "1563/1563 [==============================] - 21s 13ms/step - loss: 0.0605 - sparse_categorical_accuracy: 0.9860 - mean_absolute_error: 4.3686 - val_loss: 0.0392 - val_sparse_categorical_accuracy: 0.9936 - val_mean_absolute_error: 4.3992\n",
      "Epoch 39/50\n",
      "1563/1563 [==============================] - 20s 13ms/step - loss: 0.0727 - sparse_categorical_accuracy: 0.9855 - mean_absolute_error: 4.3686 - val_loss: 0.0340 - val_sparse_categorical_accuracy: 0.9927 - val_mean_absolute_error: 4.3992\n",
      "Epoch 40/50\n",
      "1563/1563 [==============================] - 20s 12ms/step - loss: 0.0649 - sparse_categorical_accuracy: 0.9865 - mean_absolute_error: 4.3686 - val_loss: 0.0375 - val_sparse_categorical_accuracy: 0.9913 - val_mean_absolute_error: 4.3992\n",
      "Epoch 41/50\n",
      "1563/1563 [==============================] - 23s 15ms/step - loss: 0.0707 - sparse_categorical_accuracy: 0.9850 - mean_absolute_error: 4.3686 - val_loss: 0.0399 - val_sparse_categorical_accuracy: 0.9925 - val_mean_absolute_error: 4.3992\n",
      "Epoch 42/50\n",
      "1563/1563 [==============================] - 21s 14ms/step - loss: 0.0668 - sparse_categorical_accuracy: 0.9853 - mean_absolute_error: 4.3686 - val_loss: 0.0381 - val_sparse_categorical_accuracy: 0.9926 - val_mean_absolute_error: 4.3992\n",
      "Epoch 43/50\n",
      "1563/1563 [==============================] - 19s 12ms/step - loss: 0.0641 - sparse_categorical_accuracy: 0.9863 - mean_absolute_error: 4.3686 - val_loss: 0.0373 - val_sparse_categorical_accuracy: 0.9941 - val_mean_absolute_error: 4.3992\n",
      "Epoch 44/50\n",
      "1563/1563 [==============================] - 23s 15ms/step - loss: 0.0701 - sparse_categorical_accuracy: 0.9848 - mean_absolute_error: 4.3686 - val_loss: 0.0522 - val_sparse_categorical_accuracy: 0.9920 - val_mean_absolute_error: 4.3992\n",
      "Epoch 45/50\n",
      "1563/1563 [==============================] - 20s 13ms/step - loss: 0.0740 - sparse_categorical_accuracy: 0.9851 - mean_absolute_error: 4.3686 - val_loss: 0.0333 - val_sparse_categorical_accuracy: 0.9930 - val_mean_absolute_error: 4.3992\n",
      "Epoch 46/50\n",
      "1563/1563 [==============================] - 19s 12ms/step - loss: 0.0628 - sparse_categorical_accuracy: 0.9866 - mean_absolute_error: 4.3686 - val_loss: 0.0424 - val_sparse_categorical_accuracy: 0.9918 - val_mean_absolute_error: 4.3992\n",
      "Epoch 47/50\n",
      "1563/1563 [==============================] - 22s 14ms/step - loss: 0.0644 - sparse_categorical_accuracy: 0.9868 - mean_absolute_error: 4.3686 - val_loss: 0.0436 - val_sparse_categorical_accuracy: 0.9923 - val_mean_absolute_error: 4.3992\n",
      "Epoch 48/50\n",
      "1563/1563 [==============================] - 21s 14ms/step - loss: 0.0743 - sparse_categorical_accuracy: 0.9836 - mean_absolute_error: 4.3686 - val_loss: 0.0461 - val_sparse_categorical_accuracy: 0.9930 - val_mean_absolute_error: 4.3992\n",
      "Epoch 49/50\n",
      "1563/1563 [==============================] - 19s 12ms/step - loss: 0.0662 - sparse_categorical_accuracy: 0.9865 - mean_absolute_error: 4.3686 - val_loss: 0.0412 - val_sparse_categorical_accuracy: 0.9935 - val_mean_absolute_error: 4.3992\n",
      "Epoch 50/50\n",
      "1563/1563 [==============================] - 20s 13ms/step - loss: 0.0763 - sparse_categorical_accuracy: 0.9846 - mean_absolute_error: 4.3686 - val_loss: 0.0437 - val_sparse_categorical_accuracy: 0.9933 - val_mean_absolute_error: 4.3992\n",
      "157/157 [==============================] - 0s 3ms/step - loss: 0.0293 - sparse_categorical_accuracy: 0.9938 - mean_absolute_error: 4.3630\n"
     ]
    }
   ],
   "source": [
    "model.compile(optimizer = 'adam', \n",
    "              loss=keras.losses.SparseCategoricalCrossentropy(),\n",
    "              metrics=[keras.metrics.SparseCategoricalAccuracy(),keras.metrics.MeanAbsoluteError()])\n",
    "\n",
    "model.fit_generator(datagen.flow(x_train,y_train, batch_size=32),epochs=50,validation_data=(x_val,y_val),callbacks= [learning_rate_reduction])\n",
    "\n",
    "model.save(\"digit_regonizer_best_model.h5\")\n",
    "\n",
    "results = model.evaluate(x_test,y_test,batch_size=64)"
   ]
  },
  {
   "cell_type": "code",
   "execution_count": 13,
   "metadata": {
    "execution": {
     "iopub.execute_input": "2020-08-15T17:19:01.261903Z",
     "iopub.status.busy": "2020-08-15T17:19:01.261254Z",
     "iopub.status.idle": "2020-08-15T17:19:02.908674Z",
     "shell.execute_reply": "2020-08-15T17:19:02.907872Z"
    },
    "papermill": {
     "duration": 7.827627,
     "end_time": "2020-08-15T17:19:02.908848",
     "exception": false,
     "start_time": "2020-08-15T17:18:55.081221",
     "status": "completed"
    },
    "tags": []
   },
   "outputs": [
    {
     "name": "stdout",
     "output_type": "stream",
     "text": [
      "(28000, 784)\n",
      "(28000, 2)\n"
     ]
    }
   ],
   "source": [
    "# train = pd.read_csv(\"../input/digit-recognizer/train.csv\")\n",
    "test = pd.read_csv(\"../input/digit-recognizer/test.csv\")\n",
    "sample = pd.read_csv(\"../input/digit-recognizer/sample_submission.csv\")\n",
    "\n",
    "# print(train.shape)\n",
    "print(test.shape)\n",
    "print(sample.shape)"
   ]
  },
  {
   "cell_type": "code",
   "execution_count": 14,
   "metadata": {
    "execution": {
     "iopub.execute_input": "2020-08-15T17:19:15.684855Z",
     "iopub.status.busy": "2020-08-15T17:19:15.683668Z",
     "iopub.status.idle": "2020-08-15T17:19:15.818404Z",
     "shell.execute_reply": "2020-08-15T17:19:15.819147Z"
    },
    "papermill": {
     "duration": 6.615103,
     "end_time": "2020-08-15T17:19:15.819364",
     "exception": false,
     "start_time": "2020-08-15T17:19:09.204261",
     "status": "completed"
    },
    "tags": []
   },
   "outputs": [
    {
     "name": "stdout",
     "output_type": "stream",
     "text": [
      "(28000, 28, 28)\n"
     ]
    }
   ],
   "source": [
    "test= np.array(test)\n",
    "test = test.reshape(28000, 28, 28) / 255\n",
    "print(test.shape)"
   ]
  },
  {
   "cell_type": "code",
   "execution_count": 15,
   "metadata": {
    "execution": {
     "iopub.execute_input": "2020-08-15T17:19:28.135631Z",
     "iopub.status.busy": "2020-08-15T17:19:28.134615Z",
     "iopub.status.idle": "2020-08-15T17:19:44.227726Z",
     "shell.execute_reply": "2020-08-15T17:19:44.226977Z"
    },
    "papermill": {
     "duration": 22.351811,
     "end_time": "2020-08-15T17:19:44.227866",
     "exception": false,
     "start_time": "2020-08-15T17:19:21.876055",
     "status": "completed"
    },
    "tags": []
   },
   "outputs": [],
   "source": [
    "# new_x_test = np.array(test)\n",
    "# new_x_test = new_x_test/255\n",
    "predictions = model.predict(test)\n",
    "for i in range(0,len(predictions)):\n",
    "    sample.loc[i]['Label'] = tf.argmax(predictions[i])\n",
    "sample.to_csv(\"sample_submission.csv\",index=False, header=True)"
   ]
  },
  {
   "cell_type": "code",
   "execution_count": 16,
   "metadata": {
    "execution": {
     "iopub.execute_input": "2020-08-15T17:19:57.245529Z",
     "iopub.status.busy": "2020-08-15T17:19:57.244610Z",
     "iopub.status.idle": "2020-08-15T17:19:57.253218Z",
     "shell.execute_reply": "2020-08-15T17:19:57.253683Z"
    },
    "papermill": {
     "duration": 6.207306,
     "end_time": "2020-08-15T17:19:57.253812",
     "exception": false,
     "start_time": "2020-08-15T17:19:51.046506",
     "status": "completed"
    },
    "tags": []
   },
   "outputs": [
    {
     "data": {
      "text/html": [
       "<div>\n",
       "<style scoped>\n",
       "    .dataframe tbody tr th:only-of-type {\n",
       "        vertical-align: middle;\n",
       "    }\n",
       "\n",
       "    .dataframe tbody tr th {\n",
       "        vertical-align: top;\n",
       "    }\n",
       "\n",
       "    .dataframe thead th {\n",
       "        text-align: right;\n",
       "    }\n",
       "</style>\n",
       "<table border=\"1\" class=\"dataframe\">\n",
       "  <thead>\n",
       "    <tr style=\"text-align: right;\">\n",
       "      <th></th>\n",
       "      <th>ImageId</th>\n",
       "      <th>Label</th>\n",
       "    </tr>\n",
       "  </thead>\n",
       "  <tbody>\n",
       "    <tr>\n",
       "      <th>0</th>\n",
       "      <td>1</td>\n",
       "      <td>2</td>\n",
       "    </tr>\n",
       "    <tr>\n",
       "      <th>1</th>\n",
       "      <td>2</td>\n",
       "      <td>0</td>\n",
       "    </tr>\n",
       "    <tr>\n",
       "      <th>2</th>\n",
       "      <td>3</td>\n",
       "      <td>9</td>\n",
       "    </tr>\n",
       "    <tr>\n",
       "      <th>3</th>\n",
       "      <td>4</td>\n",
       "      <td>0</td>\n",
       "    </tr>\n",
       "    <tr>\n",
       "      <th>4</th>\n",
       "      <td>5</td>\n",
       "      <td>3</td>\n",
       "    </tr>\n",
       "    <tr>\n",
       "      <th>...</th>\n",
       "      <td>...</td>\n",
       "      <td>...</td>\n",
       "    </tr>\n",
       "    <tr>\n",
       "      <th>27995</th>\n",
       "      <td>27996</td>\n",
       "      <td>9</td>\n",
       "    </tr>\n",
       "    <tr>\n",
       "      <th>27996</th>\n",
       "      <td>27997</td>\n",
       "      <td>7</td>\n",
       "    </tr>\n",
       "    <tr>\n",
       "      <th>27997</th>\n",
       "      <td>27998</td>\n",
       "      <td>3</td>\n",
       "    </tr>\n",
       "    <tr>\n",
       "      <th>27998</th>\n",
       "      <td>27999</td>\n",
       "      <td>9</td>\n",
       "    </tr>\n",
       "    <tr>\n",
       "      <th>27999</th>\n",
       "      <td>28000</td>\n",
       "      <td>2</td>\n",
       "    </tr>\n",
       "  </tbody>\n",
       "</table>\n",
       "<p>28000 rows × 2 columns</p>\n",
       "</div>"
      ],
      "text/plain": [
       "       ImageId  Label\n",
       "0            1      2\n",
       "1            2      0\n",
       "2            3      9\n",
       "3            4      0\n",
       "4            5      3\n",
       "...        ...    ...\n",
       "27995    27996      9\n",
       "27996    27997      7\n",
       "27997    27998      3\n",
       "27998    27999      9\n",
       "27999    28000      2\n",
       "\n",
       "[28000 rows x 2 columns]"
      ]
     },
     "execution_count": 16,
     "metadata": {},
     "output_type": "execute_result"
    }
   ],
   "source": [
    "sample"
   ]
  }
 ],
 "metadata": {
  "kernelspec": {
   "display_name": "Python 3",
   "language": "python",
   "name": "python3"
  },
  "language_info": {
   "codemirror_mode": {
    "name": "ipython",
    "version": 3
   },
   "file_extension": ".py",
   "mimetype": "text/x-python",
   "name": "python",
   "nbconvert_exporter": "python",
   "pygments_lexer": "ipython3",
   "version": "3.7.6"
  },
  "papermill": {
   "duration": 1138.493931,
   "end_time": "2020-08-15T17:20:04.769406",
   "environment_variables": {},
   "exception": null,
   "input_path": "__notebook__.ipynb",
   "output_path": "__notebook__.ipynb",
   "parameters": {},
   "start_time": "2020-08-15T17:01:06.275475",
   "version": "2.1.0"
  }
 },
 "nbformat": 4,
 "nbformat_minor": 4
}
